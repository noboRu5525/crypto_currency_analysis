{
 "cells": [
  {
   "cell_type": "code",
   "execution_count": 2,
   "id": "d1835d3e-7aa8-4622-8072-290e67309283",
   "metadata": {
    "tags": []
   },
   "outputs": [],
   "source": [
    "import ccxt\n",
    "from pprint import pprint"
   ]
  },
  {
   "cell_type": "code",
   "execution_count": 3,
   "id": "5e99c1b5-5a02-4360-8e35-2f6802df2078",
   "metadata": {
    "tags": []
   },
   "outputs": [],
   "source": [
    "# 取引所の指定\n",
    "cc = ccxt.coincheck()"
   ]
  },
  {
   "cell_type": "code",
   "execution_count": 4,
   "id": "6437c80f-b6cd-4293-bdcb-bb6fd11e08d8",
   "metadata": {
    "tags": []
   },
   "outputs": [],
   "source": [
    "# fetchBalance\n",
    "# 残高を照会し、取引可能な資金または注文にロックされた資金を取得する\n",
    "\n"
   ]
  },
  {
   "cell_type": "code",
   "execution_count": 5,
   "id": "bed11172-087b-4d96-97a9-76470d524031",
   "metadata": {
    "tags": []
   },
   "outputs": [],
   "source": [
    "# fetchOpenOrders\n",
    "# 現在未決済の注文をすべて取得する\n"
   ]
  },
  {
   "cell_type": "code",
   "execution_count": 6,
   "id": "f2d7d6e1-261c-426a-8163-c2d6d5a0d78a",
   "metadata": {
    "tags": []
   },
   "outputs": [],
   "source": [
    "# fetchTicker\n",
    "# 特定の市場について過去24時間に計算された情報を統計的に計算した価格ティッカーを取得する\n"
   ]
  },
  {
   "cell_type": "code",
   "execution_count": 7,
   "id": "0640892b-d500-44db-93af-7459fc49d402",
   "metadata": {
    "tags": []
   },
   "outputs": [],
   "source": [
    "# fetchMyTrades\n",
    "# ユーザーが行ったすべての取引を取得する\n"
   ]
  },
  {
   "cell_type": "code",
   "execution_count": 8,
   "id": "801649ab-8f41-4fe0-9326-005cc81f56e5",
   "metadata": {
    "tags": []
   },
   "outputs": [],
   "source": [
    "# fetchTradingFees\n",
    "# 複数市場の取引手数料を取得する\n"
   ]
  },
  {
   "cell_type": "code",
   "execution_count": 9,
   "id": "0e78ba5b-087a-4500-a52e-03f4a5a396b2",
   "metadata": {
    "tags": []
   },
   "outputs": [],
   "source": [
    "# createOrder\n",
    "# 取引注文の作成する\n"
   ]
  },
  {
   "cell_type": "code",
   "execution_count": 10,
   "id": "948c03f7-cc3b-42f4-a76d-d7b6734d5001",
   "metadata": {
    "tags": []
   },
   "outputs": [],
   "source": [
    "# cancelOrder\n",
    "# 未決済注文を取り消す\n"
   ]
  },
  {
   "cell_type": "code",
   "execution_count": 11,
   "id": "ec2cbde6-5e2c-4820-8e20-3f7d38cac6a5",
   "metadata": {
    "tags": []
   },
   "outputs": [],
   "source": [
    "# fetchDeposits\n",
    "# 口座に入金されたすべての入金を取得する\n"
   ]
  },
  {
   "cell_type": "code",
   "execution_count": 12,
   "id": "7b26caf4-2d41-4ddf-9eca-829a24c284d1",
   "metadata": {
    "tags": []
   },
   "outputs": [],
   "source": [
    "# fetchWithdrawals\n",
    "# 口座からのすべての引き出しを取得する\n"
   ]
  },
  {
   "cell_type": "code",
   "execution_count": 13,
   "id": "e7a0bb5e-e623-4ee6-9486-1892d0b0be62",
   "metadata": {
    "tags": []
   },
   "outputs": [],
   "source": [
    "# watchOrderBook\n",
    "# ビッド（買い）とアスク（売り）の価格、出来高、その他のデータを含む未決済注文の情報を見る\n"
   ]
  },
  {
   "cell_type": "code",
   "execution_count": 14,
   "id": "21a377b1-a2d6-4371-80d7-5f21ebbaa90b",
   "metadata": {
    "tags": []
   },
   "outputs": [],
   "source": [
    "# watchTrades\n",
    "# 市場で行われた複数の取引に関する情報を見る\n"
   ]
  }
 ],
 "metadata": {
  "kernelspec": {
   "display_name": "Python 3 (ipykernel)",
   "language": "python",
   "name": "python3"
  },
  "language_info": {
   "codemirror_mode": {
    "name": "ipython",
    "version": 3
   },
   "file_extension": ".py",
   "mimetype": "text/x-python",
   "name": "python",
   "nbconvert_exporter": "python",
   "pygments_lexer": "ipython3",
   "version": "3.11.5"
  }
 },
 "nbformat": 4,
 "nbformat_minor": 5
}
