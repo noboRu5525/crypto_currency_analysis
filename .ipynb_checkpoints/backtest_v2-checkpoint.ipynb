{
 "cells": [
  {
   "cell_type": "code",
   "execution_count": 7,
   "id": "72bedff1-c3fe-465a-a842-2c7e24e78f8a",
   "metadata": {
    "tags": []
   },
   "outputs": [
    {
     "ename": "ValueError",
     "evalue": "numpy.ndarray size changed, may indicate binary incompatibility. Expected 96 from C header, got 80 from PyObject",
     "output_type": "error",
     "traceback": [
      "\u001b[0;31m---------------------------------------------------------------------------\u001b[0m",
      "\u001b[0;31mValueError\u001b[0m                                Traceback (most recent call last)",
      "Cell \u001b[0;32mIn[7], line 3\u001b[0m\n\u001b[1;32m      1\u001b[0m \u001b[38;5;28;01mimport\u001b[39;00m \u001b[38;5;21;01mnumpy\u001b[39;00m \u001b[38;5;28;01mas\u001b[39;00m \u001b[38;5;21;01mnp\u001b[39;00m\n\u001b[1;32m      2\u001b[0m \u001b[38;5;28;01mimport\u001b[39;00m \u001b[38;5;21;01mpandas\u001b[39;00m \u001b[38;5;28;01mas\u001b[39;00m \u001b[38;5;21;01mpd\u001b[39;00m\n\u001b[0;32m----> 3\u001b[0m \u001b[38;5;28;01mimport\u001b[39;00m \u001b[38;5;21;01mtalib\u001b[39;00m\n\u001b[1;32m      5\u001b[0m \u001b[38;5;66;03m# 仮のデータを作成します（実際には、あなたのデータを読み込むことになります）\u001b[39;00m\n\u001b[1;32m      6\u001b[0m \u001b[38;5;66;03m# 以下のコードは例示用であり、実際のデータを使用してください。\u001b[39;00m\n\u001b[1;32m      7\u001b[0m df \u001b[38;5;241m=\u001b[39m pd\u001b[38;5;241m.\u001b[39mread_csv(\u001b[38;5;124m'\u001b[39m\u001b[38;5;124m./data/BTC_1m.csv\u001b[39m\u001b[38;5;124m'\u001b[39m)\n",
      "File \u001b[0;32m/usr/local/lib/python3.8/site-packages/talib/__init__.py:93\u001b[0m\n\u001b[1;32m     89\u001b[0m \u001b[38;5;28;01melse\u001b[39;00m:\n\u001b[1;32m     90\u001b[0m     _wrapper \u001b[38;5;241m=\u001b[39m \u001b[38;5;28;01mlambda\u001b[39;00m x: x\n\u001b[0;32m---> 93\u001b[0m \u001b[38;5;28;01mfrom\u001b[39;00m \u001b[38;5;21;01m.\u001b[39;00m\u001b[38;5;21;01m_ta_lib\u001b[39;00m \u001b[38;5;28;01mimport\u001b[39;00m (\n\u001b[1;32m     94\u001b[0m     _ta_initialize, _ta_shutdown, MA_Type, __ta_version__,\n\u001b[1;32m     95\u001b[0m     _ta_set_unstable_period \u001b[38;5;28;01mas\u001b[39;00m set_unstable_period,\n\u001b[1;32m     96\u001b[0m     _ta_get_unstable_period \u001b[38;5;28;01mas\u001b[39;00m get_unstable_period,\n\u001b[1;32m     97\u001b[0m     _ta_set_compatibility \u001b[38;5;28;01mas\u001b[39;00m set_compatibility,\n\u001b[1;32m     98\u001b[0m     _ta_get_compatibility \u001b[38;5;28;01mas\u001b[39;00m get_compatibility,\n\u001b[1;32m     99\u001b[0m     __TA_FUNCTION_NAMES__\n\u001b[1;32m    100\u001b[0m )\n\u001b[1;32m    102\u001b[0m \u001b[38;5;66;03m# import all the func and stream functions\u001b[39;00m\n\u001b[1;32m    103\u001b[0m \u001b[38;5;28;01mfrom\u001b[39;00m \u001b[38;5;21;01m.\u001b[39;00m\u001b[38;5;21;01m_ta_lib\u001b[39;00m \u001b[38;5;28;01mimport\u001b[39;00m \u001b[38;5;241m*\u001b[39m\n",
      "File \u001b[0;32mtalib/_ta_lib.pyx:1\u001b[0m, in \u001b[0;36minit talib._ta_lib\u001b[0;34m()\u001b[0m\n",
      "\u001b[0;31mValueError\u001b[0m: numpy.ndarray size changed, may indicate binary incompatibility. Expected 96 from C header, got 80 from PyObject"
     ]
    }
   ],
   "source": [
    "import numpy as np\n",
    "import pandas as pd\n",
    "import talib\n",
    "\n",
    "# 仮のデータを作成します（実際には、あなたのデータを読み込むことになります）\n",
    "# 以下のコードは例示用であり、実際のデータを使用してください。\n",
    "df = pd.read_csv('./data/BTC_1m.csv')\n",
    "# Dateをdatetime型に変換\n",
    "df['Datetime'] = pd.to_datetime(df['Datetime'])\n",
    "df.set_index('Datetime', inplace=True)\n",
    "\n",
    "\n",
    "# 移動平均の計算\n",
    "short_window = 40\n",
    "long_window = 100\n",
    "df['short_mavg'] = talib.SMA(df['Close'], timeperiod=short_window)\n",
    "df['long_mavg'] = talib.SMA(df['Close'], timeperiod=long_window)\n",
    "\n",
    "# シグナルの生成\n",
    "df['signal'] = 0\n",
    "df['signal'][short_window:] = np.where(df['short_mavg'][short_window:] > df['long_mavg'][short_window:], 1, 0)\n",
    "df['positions'] = df['signal'].diff()\n",
    "\n",
    "print(df[['Close', 'short_mavg', 'long_mavg', 'signal', 'positions']])\n"
   ]
  },
  {
   "cell_type": "code",
   "execution_count": 6,
   "id": "e25aef78-9f0d-45b4-9b05-1a1325c1cae2",
   "metadata": {},
   "outputs": [
    {
     "name": "stdout",
     "output_type": "stream",
     "text": [
      "Requirement already satisfied: numpy in /usr/local/lib/python3.8/site-packages (1.24.4)\n",
      "\u001b[33mWARNING: Running pip as the 'root' user can result in broken permissions and conflicting behaviour with the system package manager. It is recommended to use a virtual environment instead: https://pip.pypa.io/warnings/venv\u001b[0m\u001b[33m\n",
      "\u001b[0m"
     ]
    }
   ],
   "source": [
    "!pip install --upgrade numpy"
   ]
  },
  {
   "cell_type": "code",
   "execution_count": 8,
   "id": "f202a820-3554-4e0b-a2c6-495f2361e213",
   "metadata": {},
   "outputs": [
    {
     "ename": "ValueError",
     "evalue": "numpy.ndarray size changed, may indicate binary incompatibility. Expected 96 from C header, got 80 from PyObject",
     "output_type": "error",
     "traceback": [
      "\u001b[0;31m---------------------------------------------------------------------------\u001b[0m",
      "\u001b[0;31mValueError\u001b[0m                                Traceback (most recent call last)",
      "Cell \u001b[0;32mIn[8], line 1\u001b[0m\n\u001b[0;32m----> 1\u001b[0m \u001b[38;5;28;01mimport\u001b[39;00m \u001b[38;5;21;01mtalib\u001b[39;00m\n",
      "File \u001b[0;32m/usr/local/lib/python3.8/site-packages/talib/__init__.py:93\u001b[0m\n\u001b[1;32m     89\u001b[0m \u001b[38;5;28;01melse\u001b[39;00m:\n\u001b[1;32m     90\u001b[0m     _wrapper \u001b[38;5;241m=\u001b[39m \u001b[38;5;28;01mlambda\u001b[39;00m x: x\n\u001b[0;32m---> 93\u001b[0m \u001b[38;5;28;01mfrom\u001b[39;00m \u001b[38;5;21;01m.\u001b[39;00m\u001b[38;5;21;01m_ta_lib\u001b[39;00m \u001b[38;5;28;01mimport\u001b[39;00m (\n\u001b[1;32m     94\u001b[0m     _ta_initialize, _ta_shutdown, MA_Type, __ta_version__,\n\u001b[1;32m     95\u001b[0m     _ta_set_unstable_period \u001b[38;5;28;01mas\u001b[39;00m set_unstable_period,\n\u001b[1;32m     96\u001b[0m     _ta_get_unstable_period \u001b[38;5;28;01mas\u001b[39;00m get_unstable_period,\n\u001b[1;32m     97\u001b[0m     _ta_set_compatibility \u001b[38;5;28;01mas\u001b[39;00m set_compatibility,\n\u001b[1;32m     98\u001b[0m     _ta_get_compatibility \u001b[38;5;28;01mas\u001b[39;00m get_compatibility,\n\u001b[1;32m     99\u001b[0m     __TA_FUNCTION_NAMES__\n\u001b[1;32m    100\u001b[0m )\n\u001b[1;32m    102\u001b[0m \u001b[38;5;66;03m# import all the func and stream functions\u001b[39;00m\n\u001b[1;32m    103\u001b[0m \u001b[38;5;28;01mfrom\u001b[39;00m \u001b[38;5;21;01m.\u001b[39;00m\u001b[38;5;21;01m_ta_lib\u001b[39;00m \u001b[38;5;28;01mimport\u001b[39;00m \u001b[38;5;241m*\u001b[39m\n",
      "File \u001b[0;32mtalib/_ta_lib.pyx:1\u001b[0m, in \u001b[0;36minit talib._ta_lib\u001b[0;34m()\u001b[0m\n",
      "\u001b[0;31mValueError\u001b[0m: numpy.ndarray size changed, may indicate binary incompatibility. Expected 96 from C header, got 80 from PyObject"
     ]
    }
   ],
   "source": [
    "import talib"
   ]
  },
  {
   "cell_type": "code",
   "execution_count": null,
   "id": "b03a594c-b333-4246-b5f2-75faf22a3cb0",
   "metadata": {},
   "outputs": [],
   "source": []
  }
 ],
 "metadata": {
  "kernelspec": {
   "display_name": "Python 3 (ipykernel)",
   "language": "python",
   "name": "python3"
  },
  "language_info": {
   "codemirror_mode": {
    "name": "ipython",
    "version": 3
   },
   "file_extension": ".py",
   "mimetype": "text/x-python",
   "name": "python",
   "nbconvert_exporter": "python",
   "pygments_lexer": "ipython3",
   "version": "3.8.18"
  }
 },
 "nbformat": 4,
 "nbformat_minor": 5
}
