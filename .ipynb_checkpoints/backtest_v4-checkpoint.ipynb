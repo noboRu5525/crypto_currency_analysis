{
 "cells": [
  {
   "cell_type": "code",
   "execution_count": null,
   "id": "ba4db9f6-4c4e-494e-aa1f-5941c4c17de4",
   "metadata": {},
   "outputs": [],
   "source": [
    "# SMA戦略のバックテスト"
   ]
  },
  {
   "cell_type": "code",
   "execution_count": 1,
   "id": "6a137fdc-c6a5-4510-a725-083cbcac5836",
   "metadata": {},
   "outputs": [],
   "source": [
    "import numpy as np\n",
    "import pandas as pd\n",
    "from scipy.optimize import brute"
   ]
  },
  {
   "cell_type": "code",
   "execution_count": null,
   "id": "13c79e84-545e-4bc2-b64f-092254ef5878",
   "metadata": {},
   "outputs": [],
   "source": [
    "class SMAVectorBacktester:\n",
    "    def __init__(self, symbol, SMA1, SMA2, start, end):\n",
    "        self.symbol = symbol\n",
    "        self.SMA1 = SMA1\n",
    "        self.SMA2 = SMA2\n",
    "        self.start = start\n",
    "        self.end = end\n",
    "        self.results = None\n",
    "        self.get_data()\n",
    "\n",
    "    def get_data(self):\n",
    "        raw = pd.read_csv('https://hilpisch.com/pyalgo_eikon_eod_data.csv', index_col=0, parse_dates=True).dropna()\n",
    "        raw = pd.Dataframe(raw[self.symbol])\n",
    "        raw = raw.loc[self.start:self.end]\n",
    "        raw.rename(columns={self.symbol : 'price'}, inplace=True)\n",
    "        raw['return'] = np.log(raw / raw.shift(1))\n",
    "        raw['SMA1'] = raw['price'].rolling(self.SMA1).mean()\n",
    "        raw['SMA2'] = raw['price'].rolling(self.SMA2).mean()\n",
    "        self.data = raw\n",
    "\n",
    "    def set_parameters(self, SMA1=None, SMA2=None):\n",
    "        if SMA1 is not None:\n",
    "            self.SMA1 = SMA1\n",
    "            self.data['SMA1'] = self.data['price'].rolling(self.SMA1).mean()\n",
    "        if SMA2 is not None:\n",
    "            self.SMA2 = SMA2\n",
    "            self.data['SMA2'] = self.data['price'].rolling(self.SMA2).mean()\n",
    "\n",
    "    def run_strategy(self):\n",
    "        data = self.data.copy().dropna()\n",
    "        data['position'] = np.where(data['SMA1'] > data['SMA2'], 1, -1)\n",
    "        data['strategy'] = data['position'].shift(1) * data['return']\n",
    "        data.dropna(inplace=True)\n",
    "        data['creturns'] = data['return'].cumsum().apply(np.exp)\n",
    "        data['cstrategy'] = data['strategy'].cumsum().apply(np.exp)\n",
    "        self.results = data\n",
    "        aperf = data['cstrategy'].iloc[-1]\n",
    "        operf = aperf - data['creturns'].iloc[-1]\n",
    "        return round(aperf, 2), round(operf, 2)\n",
    "\n",
    "    def plot_results(self):\n",
    "        if self.results is None:\n",
    "            print('No results to plot yet. Run a strategy.')\n",
    "        title = '%s | SMA1=%d, '"
   ]
  }
 ],
 "metadata": {
  "kernelspec": {
   "display_name": "Python 3 (ipykernel)",
   "language": "python",
   "name": "python3"
  },
  "language_info": {
   "codemirror_mode": {
    "name": "ipython",
    "version": 3
   },
   "file_extension": ".py",
   "mimetype": "text/x-python",
   "name": "python",
   "nbconvert_exporter": "python",
   "pygments_lexer": "ipython3",
   "version": "3.8.18"
  }
 },
 "nbformat": 4,
 "nbformat_minor": 5
}
