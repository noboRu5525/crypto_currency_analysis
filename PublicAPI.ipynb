{
 "cells": [
  {
   "cell_type": "code",
   "execution_count": 1,
   "id": "50f3dd8f-36ff-4a2c-9ae8-8aaa1855be5b",
   "metadata": {
    "tags": []
   },
   "outputs": [],
   "source": [
    "import ccxt\n",
    "from pprint import pprint"
   ]
  },
  {
   "cell_type": "code",
   "execution_count": 3,
   "id": "81eb2aef-38dc-4367-ab0b-44a05939d282",
   "metadata": {
    "tags": []
   },
   "outputs": [],
   "source": [
    "#取引所の指定\n",
    "cc = ccxt.coincheck()"
   ]
  },
  {
   "cell_type": "code",
   "execution_count": 13,
   "id": "c642efdb-84e8-48bb-81ba-a7f381f733fb",
   "metadata": {
    "tags": []
   },
   "outputs": [],
   "source": [
    "#loadMarkets(マーケット情報の取得)\n",
    "markets = cc.loadMarkets()\n",
    "#pprint(markets)"
   ]
  },
  {
   "cell_type": "code",
   "execution_count": 15,
   "id": "ea4270f1-7772-4fcc-b671-d16a44504745",
   "metadata": {
    "tags": []
   },
   "outputs": [],
   "source": [
    "#fetchMarkets(マーケット情報を取得)\n",
    "\"\"\"\n",
    "loadMarketsの方が良い（キャッシュに保存してくれるので不要なリクエストが必要なくなるから）\n",
    "\"\"\"\n",
    "#markets = cc.fetchMarkets()\n",
    "#pprint(markets)"
   ]
  },
  {
   "cell_type": "code",
   "execution_count": 17,
   "id": "fd55c4a3-40bd-4985-988d-979b75f873f7",
   "metadata": {
    "tags": []
   },
   "outputs": [],
   "source": [
    "#fetchCurrencies(取引所で取り扱われている通貨の取得)\n",
    "currencies = cc.fetchCurrencies()\n",
    "#pprint(currencies)"
   ]
  },
  {
   "cell_type": "code",
   "execution_count": 23,
   "id": "4f8a5150-1c7d-43e2-bdff-4244cf2768d7",
   "metadata": {
    "tags": []
   },
   "outputs": [
    {
     "name": "stdout",
     "output_type": "stream",
     "text": [
      "{'ask': 7797850.0,\n",
      " 'askVolume': None,\n",
      " 'average': None,\n",
      " 'baseVolume': 1576.63213669,\n",
      " 'bid': 7797398.0,\n",
      " 'bidVolume': None,\n",
      " 'change': None,\n",
      " 'close': 7797398.0,\n",
      " 'datetime': '2024-02-22T07:38:00.000Z',\n",
      " 'high': 7820000.0,\n",
      " 'info': {'ask': '7797850.0',\n",
      "          'bid': '7797398.0',\n",
      "          'high': '7820000.0',\n",
      "          'last': '7797398.0',\n",
      "          'low': '7634567.0',\n",
      "          'timestamp': '1708587480',\n",
      "          'volume': '1576.63213669'},\n",
      " 'last': 7797398.0,\n",
      " 'low': 7634567.0,\n",
      " 'open': None,\n",
      " 'percentage': None,\n",
      " 'previousClose': None,\n",
      " 'quoteVolume': None,\n",
      " 'symbol': 'BTC/JPY',\n",
      " 'timestamp': 1708587480000,\n",
      " 'vwap': None}\n"
     ]
    }
   ],
   "source": [
    "#fetchTicker(特定の市場の最新の価格情報や統計を取得)\n",
    "ticker = cc.fetchTicker(symbol='BTC/JPY')\n",
    "pprint(ticker)"
   ]
  },
  {
   "cell_type": "code",
   "execution_count": 33,
   "id": "75316756-c0c1-402a-8577-21fd3b4a686c",
   "metadata": {
    "tags": []
   },
   "outputs": [],
   "source": [
    "# fetchTickers(複数の市場の最新のティッカー情報を一括で取得)\n",
    "#サポート対象外\n",
    "#tickers = cc.fetchTickers()\n",
    "# tickers"
   ]
  },
  {
   "cell_type": "code",
   "execution_count": 34,
   "id": "3ffacc9f-6e0f-446a-9c32-636e502fc8df",
   "metadata": {
    "tags": []
   },
   "outputs": [],
   "source": [
    "#fetchOrderBook(特定の市場の注文簿を取得)\n",
    "#bids:買い注文のリスト，asks:売り注文のリスト\n",
    "book = cc.fetchOrderBook(symbol='BTC/JPY')\n",
    "#pprint(book)"
   ]
  },
  {
   "cell_type": "code",
   "execution_count": 35,
   "id": "278de435-3b23-45fa-b4f8-0556ee7ea30d",
   "metadata": {
    "tags": []
   },
   "outputs": [],
   "source": [
    "#fetchOHLCV(OHLCV情報の取得)\n",
    "#サボート対象外\n",
    "#ohlcv = cc.fetchOHLCV(symbol='BTC/JPY')\n",
    "# pprint(ohlcv)"
   ]
  },
  {
   "cell_type": "code",
   "execution_count": 38,
   "id": "fb79c7ce-af30-4d00-b8f9-eef060e32d09",
   "metadata": {
    "tags": []
   },
   "outputs": [],
   "source": [
    "#fetchStatus(取引所の運用状況を示す)\n",
    "#サポート対象外\n",
    "# status = cc.fetchStatus()\n",
    "# pprint(status)"
   ]
  },
  {
   "cell_type": "code",
   "execution_count": 43,
   "id": "3d192c7e-211a-4276-bba3-f93d9860fce7",
   "metadata": {
    "tags": []
   },
   "outputs": [],
   "source": [
    "#fetchTrades(特定の市場の最近の取引のリストを取得)\n",
    "trades = cc.fetchTrades(symbol='BTC/JPY')\n",
    "# trades"
   ]
  },
  {
   "cell_type": "code",
   "execution_count": 46,
   "id": "9871f3cc-3501-428c-97c5-b60f06580b37",
   "metadata": {
    "tags": []
   },
   "outputs": [
    {
     "name": "stdout",
     "output_type": "stream",
     "text": [
      "last      : 7726588.0  \n",
      "bid       : 7725024.0  \n",
      "ask       : 7728629.0  \n",
      "high      : 7820000.0  \n",
      "low       : 7636806.0  \n",
      "volume    : 1311.4516  \n",
      "timestamp : 170860830  \n"
     ]
    }
   ],
   "source": [
    "# Web Socketでの接続\n",
    "# 各種最新情報を取得\n",
    "import requests\n",
    "import json\n",
    "\n",
    "URL = 'https://coincheck.com/api/ticker'\n",
    "coincheck = requests.get(URL).json() \n",
    "for key, item in coincheck.items():\n",
    "    print(\"%-9s : %-10.9s \" % (key, item))\n",
    "\n",
    "\n",
    "# last: 最後に成立した取引の価格。これは最新の取引価格を意味し、市場の最新状態を反映します。\n",
    "# bid: 買い注文の最高価格。これは、買い手が支払う準備がある最高価格を示し、売り手はこの価格またはそれ以上で売却できます。\n",
    "# ask: 売り注文の最低価格。これは、売り手が受け取ることを望む最低価格を示し、買い手はこの価格またはそれ以下で購入できます。\n",
    "# high: 記録された期間内の最高取引価格。この値は、期間内に市場が達した最高価格を示します。\n",
    "# low: 記録された期間内の最低取引価格。この値は、期間内に市場が達した最低価格を示します。\n",
    "# volume: その期間に取引された総量または総数。これは市場の活動度や流動性の指標となります。通貨や株式の場合、取引された単位数（例えば、株数や暗号通貨の量）を示します。\n",
    "# timestamp: このデータが記録された時点のタイムスタンプ。多くの場合、UNIXタイムスタンプ（1970年1月1日からの秒数）で表されます。"
   ]
  },
  {
   "cell_type": "code",
   "execution_count": 48,
   "id": "2d0c9ff3-685b-443a-9245-ced7e0c7991b",
   "metadata": {
    "tags": []
   },
   "outputs": [
    {
     "name": "stdout",
     "output_type": "stream",
     "text": [
      "{'success': False, 'error': 'invalid pair'}\n"
     ]
    }
   ],
   "source": [
    "# 最新の取引履歴を取得\n",
    "\n",
    "URL = 'https://coincheck.com/api/trades'\n",
    "coincheck = requests.get(URL, params={\"offset\": 20}).json() \n",
    "print(coincheck)\n"
   ]
  },
  {
   "cell_type": "code",
   "execution_count": 50,
   "id": "95091299-e17c-435e-80e0-8ba2892fb3c1",
   "metadata": {
    "tags": []
   },
   "outputs": [],
   "source": [
    "# 板情報の取得\n",
    "\n",
    "URL = 'https://coincheck.com/api/order_books'\n",
    "coincheck = requests.get(URL).json() \n",
    "# for key in coincheck.keys():\n",
    "#     print(key, \":\")\n",
    "#     for value in coincheck[key]:\n",
    "#         print(value)\n",
    "#     print()\n"
   ]
  },
  {
   "cell_type": "code",
   "execution_count": 51,
   "id": "6b5dd9c0-3942-417d-a3e7-8f6108f98de5",
   "metadata": {
    "tags": []
   },
   "outputs": [
    {
     "name": "stdout",
     "output_type": "stream",
     "text": [
      "Requirement already satisfied: websocket-client in /opt/conda/lib/python3.11/site-packages (0.58.0)\n",
      "Requirement already satisfied: six in /opt/conda/lib/python3.11/site-packages (from websocket-client) (1.16.0)\n",
      "\u001b[33mWARNING: Running pip as the 'root' user can result in broken permissions and conflicting behaviour with the system package manager. It is recommended to use a virtual environment instead: https://pip.pypa.io/warnings/venv\u001b[0m\u001b[33m\n",
      "\u001b[0m\n",
      "\u001b[1m[\u001b[0m\u001b[34;49mnotice\u001b[0m\u001b[1;39;49m]\u001b[0m\u001b[39;49m A new release of pip is available: \u001b[0m\u001b[31;49m23.3.2\u001b[0m\u001b[39;49m -> \u001b[0m\u001b[32;49m24.0\u001b[0m\n",
      "\u001b[1m[\u001b[0m\u001b[34;49mnotice\u001b[0m\u001b[1;39;49m]\u001b[0m\u001b[39;49m To update, run: \u001b[0m\u001b[32;49mpip install --upgrade pip\u001b[0m\n"
     ]
    }
   ],
   "source": [
    "# !pip install websocket-client"
   ]
  },
  {
   "cell_type": "code",
   "execution_count": 52,
   "id": "2bc2f912-7a6e-4247-a943-d46696d84cac",
   "metadata": {
    "tags": []
   },
   "outputs": [
    {
     "name": "stderr",
     "output_type": "stream",
     "text": [
      "--- request header ---\n",
      "GET / HTTP/1.1\n",
      "Upgrade: websocket\n",
      "Host: ws-api.coincheck.com\n",
      "Origin: http://ws-api.coincheck.com\n",
      "Sec-WebSocket-Key: vd4YQl2FemgvF1SjpuUM2w==\n",
      "Sec-WebSocket-Version: 13\n",
      "Connection: Upgrade\n",
      "\n",
      "\n",
      "-----------------------\n",
      "--- response header ---\n",
      "HTTP/1.1 101 Switching Protocols\n",
      "Date: Thu, 22 Feb 2024 14:08:20 GMT\n",
      "Connection: upgrade\n",
      "Set-Cookie: AWSALB=P5LqBXCaquYtcOG9Y09LrjepfbaDTq9eB2EslegCXFkfuoGm+Q63DA10Bj0MuRJoTVZVyKiUUjqObjRctKnlkFI/f1XRriDBLP4qYU2uTFC/F1YXkvwV2bMhU2L3; Expires=Thu, 29 Feb 2024 14:08:20 GMT; Path=/\n",
      "Set-Cookie: AWSALBCORS=P5LqBXCaquYtcOG9Y09LrjepfbaDTq9eB2EslegCXFkfuoGm+Q63DA10Bj0MuRJoTVZVyKiUUjqObjRctKnlkFI/f1XRriDBLP4qYU2uTFC/F1YXkvwV2bMhU2L3; Expires=Thu, 29 Feb 2024 14:08:20 GMT; Path=/; SameSite=None; Secure\n",
      "Server: nginx/1.22.1\n",
      "Upgrade: websocket\n",
      "Sec-WebSocket-Accept: /HIJFvL0jLC0o5NfSpn9P9FPY4E=\n",
      "uWebSockets: 20\n",
      "-----------------------\n"
     ]
    },
    {
     "name": "stdout",
     "output_type": "stream",
     "text": [
      "WS connection opened\n"
     ]
    },
    {
     "name": "stderr",
     "output_type": "stream",
     "text": [
      "send: b'\\x88\\x82\\x08U\\x06!\\x0b\\xbd'\n"
     ]
    },
    {
     "name": "stdout",
     "output_type": "stream",
     "text": [
      "\n",
      "### closed ###\n"
     ]
    }
   ],
   "source": [
    "import websocket\n",
    "import json\n",
    "\n",
    "def on_message(ws, message):\n",
    "    data = json.loads(message)\n",
    "    print(\"Received data:\")\n",
    "    print(data)\n",
    "\n",
    "def on_error(ws, error):\n",
    "    print(error)\n",
    "\n",
    "def on_close(ws):\n",
    "    print(\"### closed ###\")\n",
    "\n",
    "def on_open(ws):\n",
    "    print(\"WS connection opened\")\n",
    "    # CoincheckのWebSocketエンドポイントやチャネルに応じて、\n",
    "    # 必要なメッセージをサーバーに送信する\n",
    "    # 例: ws.send(json.dumps({'type': 'subscribe', 'channel': 'order_book'}))\n",
    "\n",
    "if __name__ == \"__main__\":\n",
    "    websocket.enableTrace(True)\n",
    "    # CoincheckのWebSocketエンドポイントURLに置き換えてください\n",
    "    ws_url = \"wss://ws-api.coincheck.com/\"\n",
    "    ws = websocket.WebSocketApp(ws_url,\n",
    "                              on_message = on_message,\n",
    "                              on_error = on_error,\n",
    "                              on_close = on_close)\n",
    "    ws.on_open = on_open\n",
    "    ws.run_forever()\n"
   ]
  },
  {
   "cell_type": "code",
   "execution_count": null,
   "id": "99da3e5b-c1d5-4b30-ac04-ebdb1cc29c8f",
   "metadata": {},
   "outputs": [],
   "source": []
  }
 ],
 "metadata": {
  "kernelspec": {
   "display_name": "Python 3 (ipykernel)",
   "language": "python",
   "name": "python3"
  },
  "language_info": {
   "codemirror_mode": {
    "name": "ipython",
    "version": 3
   },
   "file_extension": ".py",
   "mimetype": "text/x-python",
   "name": "python",
   "nbconvert_exporter": "python",
   "pygments_lexer": "ipython3",
   "version": "3.9.18"
  }
 },
 "nbformat": 4,
 "nbformat_minor": 5
}
